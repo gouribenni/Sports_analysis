{
 "cells": [
  {
   "cell_type": "markdown",
   "id": "3dd5dada",
   "metadata": {},
   "source": [
    "#### Import Libraries"
   ]
  },
  {
   "cell_type": "code",
   "execution_count": 1,
   "id": "026daa98",
   "metadata": {},
   "outputs": [],
   "source": [
    "import pandas as pd\n",
    "import numpy as np\n",
    "%matplotlib inline\n",
    "import time\n",
    "import warnings\n",
    "import random\n",
    "import seaborn as sns\n",
    "import statistics as stat\n",
    "from scipy.stats import t \n",
    "from scipy.stats import expon\n",
    "from scipy.stats import norm\n",
    "import matplotlib.pyplot as plt\n",
    "from matplotlib.ticker import MultipleLocator\n",
    "from sklearn.pipeline import Pipeline\n",
    "from sklearn.datasets import fetch_openml\n",
    "from sklearn.neighbors import KNeighborsClassifier\n",
    "from sklearn.metrics import confusion_matrix\n",
    "from sklearn.linear_model import LinearRegression\n",
    "from sklearn.naive_bayes import BernoulliNB\n",
    "from sklearn.naive_bayes import MultinomialNB\n",
    "from sklearn.naive_bayes import GaussianNB\n",
    "from sklearn.model_selection import GridSearchCV\n",
    "from sklearn.metrics import classification_report\n",
    "from sklearn.metrics import accuracy_score"
   ]
  },
  {
   "cell_type": "markdown",
   "id": "993bc791",
   "metadata": {},
   "source": [
    "#### Chapter 6 Ex2"
   ]
  },
  {
   "cell_type": "markdown",
   "id": "77a7467f",
   "metadata": {},
   "source": [
    "a. P(VOMITING = true)"
   ]
  },
  {
   "cell_type": "code",
   "execution_count": 2,
   "id": "e59e4fd8",
   "metadata": {},
   "outputs": [
    {
     "name": "stdout",
     "output_type": "stream",
     "text": [
      "Probability of Vomiting=true is 6/10= 0.6\n"
     ]
    }
   ],
   "source": [
    "P_VT= 6/10\n",
    "print('Probability of Vomiting=true is 6/10=',P_VT)"
   ]
  },
  {
   "cell_type": "markdown",
   "id": "2be93563",
   "metadata": {},
   "source": [
    "b. P(HEADACHE = false)"
   ]
  },
  {
   "cell_type": "code",
   "execution_count": 3,
   "id": "5a760807",
   "metadata": {},
   "outputs": [
    {
     "name": "stdout",
     "output_type": "stream",
     "text": [
      "Probability of Headache=false is 3/10= 0.3\n"
     ]
    }
   ],
   "source": [
    "P_HF= 3/10\n",
    "print('Probability of Headache=false is 3/10=',P_HF)"
   ]
  },
  {
   "cell_type": "markdown",
   "id": "2cefd272",
   "metadata": {},
   "source": [
    "c. P(HEADACHE = true, VOMITING = false)"
   ]
  },
  {
   "cell_type": "code",
   "execution_count": 4,
   "id": "fd8782db",
   "metadata": {},
   "outputs": [
    {
     "name": "stdout",
     "output_type": "stream",
     "text": [
      "Probability of HEADACHE=true, VOMITING=false is 1/10= 0.1\n"
     ]
    }
   ],
   "source": [
    "P_HT_VF= 1/10\n",
    "print('Probability of HEADACHE=true, VOMITING=false is 1/10=',P_HT_VF)"
   ]
  },
  {
   "cell_type": "markdown",
   "id": "01b6ef2e",
   "metadata": {},
   "source": [
    "d. P(VOMITING = false | HEADACHE = true)"
   ]
  },
  {
   "cell_type": "code",
   "execution_count": 5,
   "id": "28b2dc4d",
   "metadata": {},
   "outputs": [
    {
     "name": "stdout",
     "output_type": "stream",
     "text": [
      "Probability of VOMITING=false and HEADACHE=true is 1/7= 0.1429\n"
     ]
    }
   ],
   "source": [
    "# P(VF |HT) = P(VF AND HT)/P(HT) = (1/10)/(7/10) = 1/7\n",
    "P_VF_HT= 1/7\n",
    "print('Probability of VOMITING=false and HEADACHE=true is 1/7=',round(P_VF_HT,4))"
   ]
  },
  {
   "cell_type": "markdown",
   "id": "1873e2d4",
   "metadata": {},
   "source": [
    "e. P(MENINGITIS | FEVER = true, VOMITING = false)"
   ]
  },
  {
   "cell_type": "code",
   "execution_count": 6,
   "id": "f3c4c8de",
   "metadata": {},
   "outputs": [
    {
     "name": "stdout",
     "output_type": "stream",
     "text": [
      "Probability of Meningits=true/ Fever=true,  Vomiting=False 0.25\n"
     ]
    }
   ],
   "source": [
    "# probability with meningits as true\n",
    "P_MT_FT_VF= 1/4\n",
    "print('Probability of Meningits=true/ Fever=true,  Vomiting=False',P_MT_FT_VF)"
   ]
  },
  {
   "cell_type": "code",
   "execution_count": 7,
   "id": "90c8d6ea",
   "metadata": {},
   "outputs": [
    {
     "name": "stdout",
     "output_type": "stream",
     "text": [
      "Probability of Meningits=false/ Fever=true,  Vomiting=False 0.75\n"
     ]
    }
   ],
   "source": [
    "# probability with meningits as false\n",
    "P_MF_FT_VF= 3/4\n",
    "print('Probability of Meningits=false/ Fever=true,  Vomiting=False',P_MF_FT_VF)"
   ]
  },
  {
   "cell_type": "markdown",
   "id": "d56cebcc",
   "metadata": {},
   "source": [
    "#### Chapter 6 Ex 3"
   ]
  },
  {
   "cell_type": "code",
   "execution_count": null,
   "id": "aed2d818",
   "metadata": {},
   "outputs": [],
   "source": [
    "#Prior Probabilities\n",
    "ok=4/13\n",
    "print('Prior Probabilities of status as ok is 4/13= ',round(ok,4))\n",
    "settler=5/13\n",
    "print('Prior Probabilities of status as settler is 5/13= ',round(settler,4))\n",
    "solids=4/13\n",
    "print('Prior Probabilities of status as solids is 4/13= ',round(solids,4))"
   ]
  },
  {
   "cell_type": "markdown",
   "id": "f25d0d57",
   "metadata": {},
   "source": [
    "For creating a PDF,a normalized function for all the features in each level has to be created.\n",
    "I am going to use function f(x, μ,σ) = (1/(√2π σ) )(e^-½((x-μ)/σ)^2) as discussed in the class by professor"
   ]
  },
  {
   "cell_type": "code",
   "execution_count": null,
   "id": "c1595002",
   "metadata": {},
   "outputs": [],
   "source": [
    "#For Status_OK\n",
    "print('For Status OK')\n",
    "SS_1_ok=[168,156,176,256]\n",
    "SS_1_ok_mean=np.mean(SS_1_ok)\n",
    "SS_1_ok_std=stat.stdev(SS_1_ok)\n",
    "\n",
    "print(f'SS - IN Mean = {SS_1_ok_mean:.4f}')\n",
    "print(f'SS - IN Standard Deviation = {SS_1_ok_std:.4f}')\n",
    "\n",
    "SED_1_ok=[3,3,3.5,3]\n",
    "SED_1_ok_mean=np.mean(SED_1_ok)\n",
    "SED_1_ok_std=stat.stdev(SED_1_ok)\n",
    "\n",
    "print(f'SED - IN Mean = {SED_1_ok_mean:.4f}')\n",
    "print(f'SED - IN Standard Deviation = {SED_1_ok_std:.4f}')\n",
    "\n",
    "COND_1_ok=[1814,1358,2200,2070]\n",
    "COND_1_ok_mean=np.mean(COND_1_ok)\n",
    "COND_1_ok_std=stat.stdev(COND_1_ok)\n",
    "\n",
    "print(f'COND - IN Mean = {COND_1_ok_mean:.4f}')\n",
    "print(f'COND - IN Standard Deviation = {COND_1_ok_std:.4f}')\n",
    "\n",
    "SS_1_ok=[15,14,16,27]\n",
    "SS_1_ok_mean=np.mean(SS_1_ok)\n",
    "SS_1_ok_std=stat.stdev(SS_1_ok)\n",
    "\n",
    "print(f'SS - OUT Mean = {SS_1_ok_mean:.4f}')\n",
    "print(f'SS - OUT Standard Deviation = {SS_1_ok_std:.4f}')\n",
    "\n",
    "SED_1_ok=[0.001,0.01,0.005,0.2]\n",
    "SED_1_ok_mean=np.mean(SED_1_ok)\n",
    "SED_1_ok_std=stat.stdev(SED_1_ok)\n",
    "\n",
    "print(f'SED - OUT Mean = {SED_1_ok_mean:.4f}')\n",
    "print(f'SED - OUT Standard Deviation = {SED_1_ok_std:.4f}')\n",
    "\n",
    "COND_1_ok=[1879,1425,2140,2700]\n",
    "COND_1_ok_mean=np.mean(COND_1_ok)\n",
    "COND_1_ok_std=stat.stdev(COND_1_ok)\n",
    "\n",
    "print(f'COND - OUT Mean = {COND_1_ok_mean:.4f}')\n",
    "print(f'COND - OUT Standard Deviation = {COND_1_ok_std:.4f}')\n"
   ]
  },
  {
   "cell_type": "code",
   "execution_count": null,
   "id": "c520d3a3",
   "metadata": {},
   "outputs": [],
   "source": [
    "#For Status_settler\n",
    "print('For Status Settler')\n",
    "SS_1_settler=[230,116,242,242,174]\n",
    "SS_1_settler_mean=np.mean(SS_1_settler)\n",
    "SS_1_settler_std=stat.stdev(SS_1_settler)\n",
    "\n",
    "print(f'SS - IN Mean = {SS_1_settler_mean:.4f}')\n",
    "print(f'SS - IN Standard Deviation = {SS_1_settler_std:.4f}')\n",
    "\n",
    "SED_1_settler=[5,3,7,4.5,2.5]\n",
    "SED_1_settler_mean=np.mean(SED_1_settler)\n",
    "SED_1_settler_std=stat.stdev(SED_1_settler)\n",
    "\n",
    "print(f'SED - IN Mean = {SED_1_settler_mean:.4f}')\n",
    "print(f'SED - IN Standard Deviation = {SED_1_settler_std:.4f}')\n",
    "\n",
    "COND_1_settler=[1410,1238,1315,1183,1110]\n",
    "COND_1_settler_mean=np.mean(COND_1_settler)\n",
    "COND_1_settler_std=stat.stdev(COND_1_settler)\n",
    "\n",
    "print(f'COND - IN Mean = {COND_1_settler_mean:.4f}')\n",
    "print(f'COND - IN Standard Deviation = {COND_1_settler_std:.4f}')\n",
    "\n",
    "SS_2_settler=[131,104,104,78,73]\n",
    "SS_2_settler_mean=np.mean(SS_2_settler)\n",
    "SS_2_settler_std=stat.stdev(SS_2_settler)\n",
    "\n",
    "print(f'SS - OUT Mean = {SS_2_settler_mean:.4f}')\n",
    "print(f'SS - OUT Standard Deviation = {SS_2_settler_std:.4f}')\n",
    "\n",
    "SED_2_settler=[3.5,0.06,0.01,0.02,1.5]\n",
    "SED_2_settler_mean=np.mean(SED_2_settler)\n",
    "SED_2_settler_std=stat.stdev(SED_2_settler)\n",
    "\n",
    "print(f'SED - OUT Mean = {SED_2_settler_mean:.4f}')\n",
    "print(f'SED - OUT Standard Deviation = {SED_2_settler_std:.4f}')\n",
    "\n",
    "COND_2_settler=[1575,1221,1434,1374,1256]\n",
    "COND_2_settler_mean=np.mean(COND_2_settler)\n",
    "COND_2_settler_std=stat.stdev(COND_2_settler)\n",
    "\n",
    "print(f'COND - OUT Mean = {COND_2_settler_mean:.4f}')\n",
    "print(f'COND - OUT Standard Deviation = {COND_2_settler_std:.4f}')\n",
    "\n"
   ]
  },
  {
   "cell_type": "code",
   "execution_count": null,
   "id": "178608c1",
   "metadata": {},
   "outputs": [],
   "source": [
    "#For Status_solids\n",
    "print('For Status solids')\n",
    "\n",
    "SS_1_solids=[1004,1228,964,2008]\n",
    "SS_1_solids_mean=np.mean(SS_1_solids)\n",
    "SS_1_solids_std=stat.stdev(SS_1_solids)\n",
    "\n",
    "print(f'SS - IN Mean = {SS_1_solids_mean:.4f}')\n",
    "print(f'SS - IN Standard Deviation = {SS_1_solids_std:.4f}')\n",
    "\n",
    "SED_1_solids=[35,46,17,32]\n",
    "SED_1_solids_mean=np.mean(SED_1_solids)\n",
    "SED_1_solids_std=stat.stdev(SED_1_solids)\n",
    "\n",
    "print(f'SED - IN Mean = {SED_1_solids_mean:.4f}')\n",
    "print(f'SED - IN Standard Deviation = {SED_1_solids_std:.4f}')\n",
    "\n",
    "COND_1_solids=[1218,1889,2120,1257]\n",
    "COND_1_solids_mean=np.mean(COND_1_solids)\n",
    "COND_1_solids_std=stat.stdev(COND_1_solids)\n",
    "\n",
    "print(f'COND - IN Mean = {COND_1_solids_mean:.4f}')\n",
    "print(f'COND - IN Standard Deviation = {COND_1_solids_std:.4f}')\n",
    "\n",
    "SS_2_solids=[81,82.4,20,13]\n",
    "SS_2_solids_mean=np.mean(SS_2_solids)\n",
    "SS_2_solids_std=stat.stdev(SS_2_solids)\n",
    "\n",
    "print(f'SS - OUT Mean = {SS_2_solids_mean:.4f}')\n",
    "print(f'SS - OUT Standard Deviation = {SS_2_solids_std:.4f}')\n",
    "\n",
    "SED_2_solids=[1172,1932,1030,1038]\n",
    "SED_2_solids_mean=np.mean(SED_2_solids)\n",
    "SED_2_solids_std=stat.stdev(SED_2_solids)\n",
    "\n",
    "print(f'SED - OUT Mean = {SED_2_solids_mean:.4f}')\n",
    "print(f'SED - OUT Standard Deviation = {SED_2_solids_std:.4f}')\n",
    "\n",
    "COND_2_solids=[33.3,43.1,1966,1289]\n",
    "COND_2_solids_mean=np.mean(COND_2_solids)\n",
    "COND_2_solids_std=stat.stdev(COND_2_solids)\n",
    "\n",
    "print(f'COND - OUT Mean = {COND_2_solids_mean:.4f}')\n",
    "print(f'COND - OUT Standard Deviation = {COND_2_solids_std:.4f}')"
   ]
  },
  {
   "cell_type": "markdown",
   "id": "b51ec55a",
   "metadata": {},
   "source": [
    "**b. SS-IN = 222, SED-IN = 4.5, COND-IN = 1,518, SS-OUT = 74 SED-OUT = 0.25, COND-OUT =\n",
    "1,642**"
   ]
  },
  {
   "cell_type": "code",
   "execution_count": null,
   "id": "1e5aaf88",
   "metadata": {},
   "outputs": [],
   "source": [
    "#pdf of t distribution\n",
    "P_SS_1_ok= t.pdf(222, 189, 45.41)\n",
    "P_SS_1_ok"
   ]
  },
  {
   "cell_type": "code",
   "execution_count": null,
   "id": "dd6e145f",
   "metadata": {},
   "outputs": [],
   "source": [
    "#pdf of exponential distribution\n",
    "ex=expon.pdf(222,0.0052)\n",
    "ex"
   ]
  },
  {
   "cell_type": "code",
   "execution_count": null,
   "id": "95e36c26",
   "metadata": {},
   "outputs": [],
   "source": [
    "from scipy.stats import norm\n",
    "P_SS_1_ok= norm.pdf(222, 189, 45.41)\n",
    "print('P(SS-in|ok)= ',round(P_SS_1_ok,4))\n",
    "P_SED_1_ok= norm.pdf(4.5, 3.125, 0.25)\n",
    "print('P(SED-in|ok)= ',round(P_SED_1_ok,4))\n",
    "P_COND_1_ok= norm.pdf(1518, 1860.5, 371.40)\n",
    "print('P(COND-in|ok)= ',round(P_COND_1_ok,4))\n",
    "P_SS_2_ok= norm.pdf(74, 18.0, 6.055)\n",
    "print('P(SS-out|ok)= ',round(P_SS_2_ok,4))\n",
    "P_SED_2_ok= norm.pdf(0.25, 0.054, 0.097)\n",
    "print('P(SED-out|ok)= ',round(P_SED_2_ok,4))\n",
    "P_COND_2_ok= norm.pdf(1642, 2036.0, 532.19)\n",
    "print('P(COND-out|ok)= ',round(P_COND_2_ok,4))\n",
    "\n",
    "# PDF(status = ok) = sum of all the feature probability*P(status = 0k)\n",
    "P_S_ok=P_SS_1_ok*P_SED_1_ok*P_COND_1_ok*P_SS_2_ok*P_SED_2_ok*P_COND_2_ok*0.3077\n",
    "print('probability that the status will be ok = ',P_S_ok)"
   ]
  },
  {
   "cell_type": "code",
   "execution_count": null,
   "id": "eba187e4",
   "metadata": {},
   "outputs": [],
   "source": [
    "P_SS_1_settler= norm.pdf(222, 200.8, 55.12)\n",
    "print('P(SS-in|settler)= ',round(P_SS_1_settler,4))\n",
    "P_SED_1_settler= norm.pdf(4.5, 4.4, 1.781)\n",
    "print('P(SED-in|settler)= ',round(P_SED_1_settler,4))\n",
    "P_COND_1_settler= norm.pdf(1518, 1251.2, 116.24)\n",
    "print('P(COND-in|settler)= ',round(P_COND_1_settler,4))\n",
    "P_SS_2_settler= norm.pdf(74, 98.0, 23.37)\n",
    "print('P(SS-out|settler)= ',round(P_SS_2_settler,4))\n",
    "P_SED_2_settler= norm.pdf(0.25, 1.018, 1.526)\n",
    "print('P(SED-out|settler)= ',round(P_SED_2_settler,4))\n",
    "P_COND_2_settler= norm.pdf(1642, 1372.0, 142.5)\n",
    "print('P(COND-out|settler)= ',round(P_COND_2_settler,4))\n",
    "\n",
    "#PDF(status = settler) = sum of all the feature probability*P(status = settler)\n",
    "P_S_settler= P_SS_1_settler*P_SED_1_settler*P_COND_1_settler*P_SS_2_settler*P_SED_2_settler*P_COND_2_settler*0.3846\n",
    "\n",
    "print('probability that the status will be settler = ',P_S_settler)"
   ]
  },
  {
   "cell_type": "code",
   "execution_count": null,
   "id": "f135e924",
   "metadata": {},
   "outputs": [],
   "source": [
    "P_SS_1_solids= norm.pdf(222, 1301, 485.44)\n",
    "print(f'P(SS-in|solids)= {P_SS_1_solids:.4f}')\n",
    "P_SED_1_solids= norm.pdf(4.5, 32.5, 11.958)\n",
    "print(f'P(SED-in|solids)= {P_SED_1_solids:.4f}')\n",
    "P_COND_1_solids= norm.pdf(1518, 1621.0, 453.03)\n",
    "print(f'P(COND-in|solids)= {P_COND_1_solids:.4f}')\n",
    "P_SS_2_solids= norm.pdf(74, 49.1, 37.75)\n",
    "print(f'P(SS-out|solids)= {P_SS_2_solids:.4f}')\n",
    "P_SED_2_solids= norm.pdf(0.25, 1293.0, 430.95)\n",
    "print(f'P(SED-out|solids)= {P_SED_2_solids:.4f}')\n",
    "P_COND_2_solids= norm.pdf(1642, 832.85, 958.312)\n",
    "print(f'P(COND-out|solids)= {P_COND_2_solids:.4f}')\n",
    "\n",
    "#PDF(status = solids) = sum of all the feature probability*P(status = solids)\n",
    "P_S_solids=P_SS_1_solids*P_SED_1_solids*P_COND_1_solids*P_SS_2_solids*P_SED_2_solids*P_COND_2_solids*0.3077\n",
    "print(f'probability that the status will be solids = {P_S_solids}')"
   ]
  },
  {
   "cell_type": "markdown",
   "id": "c86d17ce",
   "metadata": {},
   "source": [
    "Since we are using PDF heights rather than actual heights,Scores for each target level are a function of the probability of each feature taking a valueThis is a ranking, not a probability. However, the target level with **STATUS = settler has the highest ranking. As a result, there was a problem with plant’s settler equipment on the day of the query**"
   ]
  },
  {
   "cell_type": "markdown",
   "id": "9a007f8f",
   "metadata": {},
   "source": [
    "#### Chapter 6 Ex 5"
   ]
  },
  {
   "cell_type": "markdown",
   "id": "621a1c6a",
   "metadata": {},
   "source": [
    "a."
   ]
  },
  {
   "cell_type": "markdown",
   "id": "3a9a2b47",
   "metadata": {},
   "source": [
    "3 bins and 9 instances are present. We can therefore predict that each bin will contain 3 instances using equal-frequency binning. In the table below, the examples are listed in ascending order by AGE. We will put the first 3 instances into the young bin, the next 3 instances into the middle aged bin and the last 3 insatnces in mature bin."
   ]
  },
  {
   "cell_type": "code",
   "execution_count": null,
   "id": "2596ca37",
   "metadata": {},
   "outputs": [],
   "source": [
    "data = {'Occupation': ['labtech','farmland','biophysicist','sheriff','painter','manager','geologist','messenger','nurse'], \n",
    "     'Gender':['female','female','male','female','male','male','male','male','female'],\n",
    "     'Age' :[43,57,21,47,55,19,49,51,18],\n",
    "     'Ploacy Type' : ['planC','planA','planA','planB','planC','planA','planC','planB','planC'],\n",
    "     'Pref Channel' : ['email','phone','email','phone','phone','email','phone','email','phone']\n",
    "    }"
   ]
  },
  {
   "cell_type": "code",
   "execution_count": null,
   "id": "f43d40b1",
   "metadata": {},
   "outputs": [],
   "source": [
    "data = pd.DataFrame(data)\n",
    "data.sort_values(by='Age',inplace=True)\n",
    "print(data['Age'].unique())"
   ]
  },
  {
   "cell_type": "code",
   "execution_count": null,
   "id": "0600f414",
   "metadata": {},
   "outputs": [],
   "source": [
    "print('no of bins:',len(data['Age'])/3)"
   ]
  },
  {
   "cell_type": "markdown",
   "id": "46f5ebef",
   "metadata": {},
   "source": [
    "The thresholds for the different bins are calculated as the mid-point between the AGE values of the two instances on either side of the boundary. So, the threshold between the young and middle-aged bins would be (21+ 43)/2=32<br>\n",
    "\n",
    "Likewise, the threshold between the middleaged and mature bins would be the mid point\n",
    "between (49+51)/2= 50"
   ]
  },
  {
   "cell_type": "markdown",
   "id": "0ba13e38",
   "metadata": {},
   "source": [
    "b."
   ]
  },
  {
   "cell_type": "markdown",
   "id": "6354c217",
   "metadata": {},
   "source": [
    "The ID feature should not be used during training as a descriptive feature, as is always the case. But before training, the dataset in this example needs to have another feature deleted. **Each instance of the dataset's OCCUPATION feature has a particular level that is specific to that instance. In other words, each instance's OCCUPTAITON feature functions as an id**. As a result, it ought to be taken out of the dataset before training a model."
   ]
  },
  {
   "cell_type": "markdown",
   "id": "aa3964c2",
   "metadata": {},
   "source": [
    "c."
   ]
  },
  {
   "cell_type": "code",
   "execution_count": null,
   "id": "0f88d301",
   "metadata": {},
   "outputs": [],
   "source": [
    "Pb_Email=4/9\n",
    "Pb_Phone=5/9\n",
    "# P(gender female/pref channel email) = P(pref channel email AND gender female)/P(channel email) = (1/9)/(4/9) = 1/4\n",
    "Pb_pce_gf=1/4\n",
    "# P(pref channel phone | gender female) = P(pref channel phone AND gender female)/P(channel phone) = (3/9)/(5/9) = 3/5\n",
    "Pb_pcPb_gf=3/5\n",
    "# P(pref channel email | gender male) = P(pref channel email AND gender male)/P(channel phone) = (3/9)/(4/9) = 3/4\n",
    "Pb_pce_gm=3/4\n",
    "# P(pref channel phone | gender male) = P(pref channel phone AND gender male)/P(channel phone) = (2/9)/(5/9) = 2/5\n",
    "Pb_pcPb_gm=2/5\n",
    "#P(young|email) = (2/9)/(4/9)=2/4\n",
    "Pb_y_e=1/2\n",
    "#P(young|phone) = (1/9)/(5/9)=1/5\n",
    "Pb_y_p=1/5\n",
    "#P(middle_aged|email) = (1/9)/(4/9)=1/4:.4f\n",
    "Pb_ma_e=1/4\n",
    "#P(middle_aged|phone) = (2/9)/(5/9)=2/5\n",
    "Pb_ma_p=2/5\n",
    "#P(mature|email) = (1/9)/(4/9)=1/4\n",
    "Pb_m_e=1/4\n",
    "#P(mature|phone) = (1/9)/(5/9)=2/5\n",
    "Pb_m_p=2/5\n",
    "#P(planA|email) = (2/9)/(4/9)=2/4\n",
    "Pb_PlanA_e=1/2\n",
    "#P(planA|phone) = (1/9)/(5/9)=1/5\n",
    "Pb_PlanA_p=1/5\n",
    "#P(planB|email) = (1/9)/(4/9)=1/4\n",
    "Pb_PlanB_e=1/4\n",
    "#P(planB|phone) = (1/9)/(5/9)=1/5\n",
    "Pb_PlanB_p=1/5\n",
    "#P(planC|email) = (1/9)/(4/9)=1/4\n",
    "Pb_PlanC_e=1/4\n",
    "#P(planC|phone) = (3/9)/(5/9)=3/5\n",
    "Pb_PlanC_p=3/5"
   ]
  },
  {
   "cell_type": "code",
   "execution_count": null,
   "id": "4e3f89ab",
   "metadata": {},
   "outputs": [],
   "source": [
    "print('Prior probability of email         = ' ,round(Pb_Email,4))\n",
    "print('Prior probability of Phone         = ' ,round(Pb_Phone,4))\n",
    "print('Probability of P(female|email)     = ' ,round(Pb_pce_gf,4))\n",
    "print('Probability of P(female|phone)     = ' ,round(Pb_pcPb_gf,4))\n",
    "print('Probability of P(male|email)       = ' ,round(Pb_pce_gm,4))\n",
    "print('Probability of P(male|phone)       = ' ,round(Pb_pcPb_gm,4))\n",
    "print('Probability of P(young|email)      = ' ,round(Pb_y_e,4))\n",
    "print('Probability of P(young|phone)      = ' ,round(Pb_y_p,4))\n",
    "print('Probability of P(middle_aged|email)= ' ,round(Pb_ma_e,4))\n",
    "print('Probability of P(middle_aged|phone)= ' ,round(Pb_ma_p,4))\n",
    "print('Probability of P(mature|email)     = ' ,round(Pb_m_e,4))\n",
    "print('Probability of P(mature|phone)     = ' ,round(Pb_m_p,4))\n",
    "print('Probability of P(planA|email)      = ' ,round(Pb_PlanA_e,4))\n",
    "print('Probability of P(planA|phone)      = ' ,round(Pb_PlanA_p,4))\n",
    "print('Probability of P(planB|email)      = ' ,round(Pb_PlanB_e,4))\n",
    "print('Probability of P(planB|phone)      = ' ,round(Pb_PlanB_p,4))\n",
    "print('Probability of P(planC|email)      = ' ,round(Pb_PlanC_e,4))\n",
    "print('Probability of P(planC|phone)      = ' ,round(Pb_PlanC_p,4))"
   ]
  },
  {
   "cell_type": "markdown",
   "id": "7ee1cc3f",
   "metadata": {},
   "source": [
    "d. GENDER = female, AGE = 30, POLICY = planA"
   ]
  },
  {
   "cell_type": "markdown",
   "id": "73788d85",
   "metadata": {},
   "source": [
    "The first step in calculating this answer is to bin the AGE feature.The value for the AGE feature in the query is less then 32 so it is mapped to the young bin."
   ]
  },
  {
   "cell_type": "code",
   "execution_count": null,
   "id": "38152e9d",
   "metadata": {},
   "outputs": [],
   "source": [
    "#(P(female|email)*P(young|email)*P(planA|email))* P(email)=0.25*0.5*0.5*0.444\n",
    "P_X_email= 0.25*0.5*0.5*0.444\n",
    "print('Probability of email for GENDER = female, AGE = 30, POLICY = planA= ',round(P_X_email,4))\n"
   ]
  },
  {
   "cell_type": "code",
   "execution_count": null,
   "id": "f0c4e22a",
   "metadata": {},
   "outputs": [],
   "source": [
    "\n",
    "#(P(female|phone)*P(young|phone)*P(planA|phone))* P(phone)=0.6*0.2*0.2*0.56\n",
    "P_X_phone= 0.6*0.2*0.2*0.56\n",
    "\n",
    "print(f'Probability of phone for GENDER = female, AGE = 30, POLICY = planA= ',round(P_X_phone,4))"
   ]
  },
  {
   "cell_type": "markdown",
   "id": "e8a59a7a",
   "metadata": {},
   "source": [
    "The highest ranking for the target variable is **CHANNEL = email**, and this is the prediction by the model"
   ]
  },
  {
   "cell_type": "markdown",
   "id": "06f6761b",
   "metadata": {},
   "source": [
    "#### Chapter 6 Ex 6"
   ]
  },
  {
   "cell_type": "markdown",
   "id": "931b98b2",
   "metadata": {},
   "source": [
    "#### 6(a) Word-document counts for the entertainment dataset\n",
    "#### machine=35, learning =70, is= 695, fun=415"
   ]
  },
  {
   "cell_type": "code",
   "execution_count": null,
   "id": "c84bdf40",
   "metadata": {},
   "outputs": [],
   "source": [
    "# In the question, It is Given that\n",
    "# total documents =1000\n",
    "# given that total documents in entertainment is 700"
   ]
  },
  {
   "cell_type": "code",
   "execution_count": null,
   "id": "4967e893",
   "metadata": {},
   "outputs": [],
   "source": [
    "#defining probabilities\n",
    "Prob_ent=700/1000\n",
    "Prob_machine=35/700\n",
    "Prob_learning=70/700\n",
    "Prob_is=695/700\n",
    "Prob_fun=415/700"
   ]
  },
  {
   "cell_type": "code",
   "execution_count": null,
   "id": "4027b52b",
   "metadata": {},
   "outputs": [],
   "source": [
    "print('out of all documents, Probability of entertainment',round(Prob_ent,4))\n",
    "print('out of all documents, Probability of machine/entertainment',round(Prob_machine,4))\n",
    "print('out of all documents, Probability of learning/entertainment',round(Prob_learning,4))\n",
    "print('out of all documents, Probability of is/entertainment',round(Prob_is,4))\n",
    "print('out of all documents, Probability of fun/entertainment',round(Prob_fun,4))"
   ]
  },
  {
   "cell_type": "code",
   "execution_count": null,
   "id": "5b36ecdb",
   "metadata": {},
   "outputs": [],
   "source": [
    "Prob_ent_q=Prob_machine*Prob_learning*Prob_is*Prob_fun*Prob_ent\n",
    "print('out of all documents, Probability of entertainment',round(Prob_ent,4))"
   ]
  },
  {
   "cell_type": "markdown",
   "id": "b4b879ad",
   "metadata": {},
   "source": [
    "#### Word-document counts for education dataset\n",
    "#### machine=120, learning =105, is= 295, fun=200"
   ]
  },
  {
   "cell_type": "code",
   "execution_count": null,
   "id": "421edfc1",
   "metadata": {},
   "outputs": [],
   "source": [
    "Prob_edu=300/1000\n",
    "Prob_machine=120/300\n",
    "Prob_learning=105/300\n",
    "Prob_is=295/300\n",
    "Prob_fun=200/300"
   ]
  },
  {
   "cell_type": "code",
   "execution_count": null,
   "id": "227b5d12",
   "metadata": {},
   "outputs": [],
   "source": [
    "print('Probability for edu',round(Prob_edu,4))\n",
    "print('Probability for machine/entertainment',round(Prob_machine,4))\n",
    "print('Probability for learning/entertainment',round(Prob_learning,4))\n",
    "print('Probability for is/edu',round(Prob_is,4))\n",
    "print('Probability for fun/edu',round(Prob_fun,4))"
   ]
  },
  {
   "cell_type": "code",
   "execution_count": null,
   "id": "7cd3cb5e",
   "metadata": {},
   "outputs": [],
   "source": [
    "Prob_edu_q=Prob_machine*Prob_learning*Prob_is*Prob_fun*Prob_edu\n",
    "print('Probability of query being edu',round(Prob_edu_q,4))"
   ]
  },
  {
   "cell_type": "markdown",
   "id": "6a2c2963",
   "metadata": {},
   "source": [
    "#### 6(b) What target level will a naive Bayes model predict for the following query document: “christmas family fun”?"
   ]
  },
  {
   "cell_type": "markdown",
   "id": "d2ec627f",
   "metadata": {},
   "source": [
    "For “Christmas family fun” \n",
    "we must first calculate probaility for the categories<br>\n",
    "1.education <br>\n",
    "2.entertainment."
   ]
  },
  {
   "cell_type": "markdown",
   "id": "85db64d5",
   "metadata": {},
   "source": [
    "For Education:  \n",
    "P(Christmas)*P(family)*P(fun)*P(education) = 0"
   ]
  },
  {
   "cell_type": "markdown",
   "id": "6602e85d",
   "metadata": {},
   "source": [
    "For Entertainment:\n",
    "P(Christmas)*P(family)*P(fun)*P(entertainment) =0"
   ]
  },
  {
   "cell_type": "markdown",
   "id": "4c359fc9",
   "metadata": {},
   "source": [
    "The query will **not return any value as the probability for both the categories is 0.**"
   ]
  },
  {
   "cell_type": "markdown",
   "id": "01771d29",
   "metadata": {},
   "source": [
    "#### 6(c)"
   ]
  },
  {
   "cell_type": "markdown",
   "id": "552f2ef5",
   "metadata": {},
   "source": [
    "**laplacing smoothing formula P(f=v/t)= count(f=v/t)+k/(count(f/t)+(k*domain(f)))**\n"
   ]
  },
  {
   "cell_type": "code",
   "execution_count": null,
   "id": "bd8c4cf7",
   "metadata": {},
   "outputs": [],
   "source": [
    "# For Entertainment dataset\n",
    "#given k=10, v=6\n",
    "#christmas=0, family= 400, fun= 415"
   ]
  },
  {
   "cell_type": "code",
   "execution_count": null,
   "id": "198c6f02",
   "metadata": {},
   "outputs": [],
   "source": [
    "Prob_lap_C_entertainment=(0+10)/(700 +(10*6))\n",
    "Prob_lap_Family_entertainment=(400+10)/(700 +(10*6))\n",
    "Prob_lap_Fun_entertainment=(415+10)/(700 +(10*6))"
   ]
  },
  {
   "cell_type": "code",
   "execution_count": null,
   "id": "313892d6",
   "metadata": {},
   "outputs": [],
   "source": [
    "print('Probability of p(christmas/entertainment)' , round(Prob_lap_C_entertainment,4))\n",
    "print('Probability of p(family/entertainment)' , round(Prob_lap_Family_entertainment,4))\n",
    "print('Probability of p(fun/entertainment)' , round(Prob_lap_Fun_entertainment,4))"
   ]
  },
  {
   "cell_type": "code",
   "execution_count": null,
   "id": "033ad3e3",
   "metadata": {},
   "outputs": [],
   "source": [
    "Prob_lap_entertainment_q=Prob_lap_C_entertainment*Prob_lap_Family_entertainment*Prob_lap_Fun_entertainment*0.7\n",
    "print('Probability of query returning \"entertainment\"=' , round(Prob_lap_entertainment_q,4))"
   ]
  },
  {
   "cell_type": "code",
   "execution_count": null,
   "id": "a93ddd40",
   "metadata": {},
   "outputs": [],
   "source": [
    "# for Education dataset\n",
    "#given k=10, v=6\n",
    "#christmas=0, family= 10, fun= 200"
   ]
  },
  {
   "cell_type": "code",
   "execution_count": null,
   "id": "3029b556",
   "metadata": {},
   "outputs": [],
   "source": [
    "Prob_lap_C_edu=(0+10)/(300 +(10*6))\n",
    "Prob_lap_Family_edu=(10+10)/(300 +(10*6))\n",
    "Prob_lap_Fun_edu=(200+10)/(300 +(10*6))"
   ]
  },
  {
   "cell_type": "code",
   "execution_count": null,
   "id": "9b69456a",
   "metadata": {},
   "outputs": [],
   "source": [
    "print('probability of p(christmas/edu)' , round(Prob_lap_C_edu,4))\n",
    "print('probability of p(family/edu)' , round(Prob_lap_Family_edu,4))\n",
    "print('probability of p(fun/edu)' , round(Prob_lap_Fun_edu,4))"
   ]
  },
  {
   "cell_type": "code",
   "execution_count": null,
   "id": "c6300dff",
   "metadata": {},
   "outputs": [],
   "source": [
    "Prob_lap_edu_q=Prob_lap_C_edu*Prob_lap_Family_edu*Prob_lap_Fun_edu*0.3\n",
    "print('probability of query returning \"Education\"=' , round(Prob_lap_edu_q,4))"
   ]
  },
  {
   "cell_type": "markdown",
   "id": "4842be83",
   "metadata": {},
   "source": [
    "The model will **predict a label of entertainment for this query** as the probability for entertainment is more than education"
   ]
  },
  {
   "cell_type": "markdown",
   "id": "7ee6da45",
   "metadata": {},
   "source": [
    "# Coding Question"
   ]
  },
  {
   "cell_type": "code",
   "execution_count": 8,
   "id": "a2ffa0eb",
   "metadata": {},
   "outputs": [
    {
     "name": "stderr",
     "output_type": "stream",
     "text": [
      "/Users/nyzy/allianceware_2/sports_analysis_website/beyond_the_numbers_project/venv/lib/python3.9/site-packages/sklearn/datasets/_openml.py:968: FutureWarning: The default value of `parser` will change from `'liac-arff'` to `'auto'` in 1.4. You can set `parser='auto'` to silence this warning. Therefore, an `ImportError` will be raised from 1.4 if the dataset is dense and pandas is not installed. Note that the pandas parser may return different data types. See the Notes Section in fetch_openml's API doc for details.\n",
      "  warn(\n"
     ]
    },
    {
     "name": "stdout",
     "output_type": "stream",
     "text": [
      "data shape:  (70000, 784)\n",
      "label shape: (70000,)\n"
     ]
    }
   ],
   "source": [
    "# Set the randomizer seed so results are the same each time.\n",
    "np.random.seed(0)\n",
    "\n",
    "# Load the digit data either from mldata.org, or once downloaded to data_home, from disk. The data is about 53MB so this cell\n",
    "# should take a while the first time your run it.\n",
    "#mnist = fetch_mldata('MNIST original', data_home='~/datasets/mnist')\n",
    "mnist = fetch_openml(name='mnist_784',version=1)\n",
    "\n",
    "X, Y = mnist.data, mnist.target\n",
    "\n",
    "# Rescale grayscale values to [0,1].\n",
    "X = X / 255.0\n",
    "\n",
    "\n",
    "# Shuffle the input: create a random permutation of the integers between 0 and the number of data points and apply this\n",
    "# permutation to X and Y.\n",
    "# NOTE: Each time you run this cell, you'll re-shuffle the data, resulting in a different ordering.\n",
    "shuffle = np.random.permutation(np.arange(X.shape[0]))\n",
    "\n",
    "\n",
    "X, Y = X.iloc[shuffle], Y[shuffle]\n",
    "\n",
    "print('data shape: ', X.shape)\n",
    "print('label shape:', Y.shape)\n"
   ]
  },
  {
   "cell_type": "code",
   "execution_count": 9,
   "id": "a2503fb8",
   "metadata": {},
   "outputs": [],
   "source": [
    "# Declaring training, testing and validation data\n",
    "test_data, test_labels = X[61000:], Y[61000:]\n",
    "train_data, train_labels = X[:60000], Y[:60000]"
   ]
  },
  {
   "cell_type": "code",
   "execution_count": 10,
   "id": "69961445",
   "metadata": {},
   "outputs": [],
   "source": [
    "subset_train_data, subset_train_labels = X[:1000], Y[:1000]\n",
    "validation_data, validation_labels = X[60000:61000], Y[60000:61000]"
   ]
  },
  {
   "cell_type": "markdown",
   "id": "c75665f1",
   "metadata": {},
   "source": [
    "### A. Create a 10x10 grid to visualize 10 examples of each digit."
   ]
  },
  {
   "cell_type": "code",
   "execution_count": 11,
   "id": "116bdc11",
   "metadata": {},
   "outputs": [
    {
     "data": {
      "image/png": "[encoded data removed]",
      "text/plain": [
       "<Figure size 2000x2000 with 100 Axes>"
      ]
     },
     "metadata": {},
     "output_type": "display_data"
    }
   ],
   "source": [
    "dataset = pd.DataFrame(mnist.data)\n",
    "dataset['target'] = mnist.target\n",
    "\n",
    "target_bins= {}\n",
    "target_class = mnist.target.unique().to_list()\n",
    "target_class.sort()\n",
    "\n",
    "for target in target_class:\n",
    "    target_dataset = pd.DataFrame(dataset[dataset.target == target])\n",
    "    target_dataset.drop(columns=['target'], inplace=True)\n",
    "    target_bins[target] = target_dataset.sample(n = 10).to_numpy() #using 10 bins\n",
    "i = 0\n",
    "plt.figure(figsize=(20,20))\n",
    "for target in target_class:\n",
    "    i = i + 1;\n",
    "    for j in range(len(target_bins[target])):\n",
    "        ax = plt.subplot2grid((len(target_class)+1,len(target_bins[target])+1), (i,j))\n",
    "        ax.imshow(np.reshape(target_bins[target][j], (28, 28)))\n",
    "plt.show()"
   ]
  },
  {
   "cell_type": "markdown",
   "id": "b967e3a3",
   "metadata": {},
   "source": [
    "### B.  Fit a Naive Bayes classifier and report accuracy on the dev data. Remember that Naive Bayes estimates P(feature|label). While sklearn can handle real-valued features, let's start by mapping the pixel values to either 0 or 1. You can do this as a preprocessing step, or with the binarize argument. With binary-valued features, you can use BernoulliNB. Next try mapping the pixel values to 0, 1, or 2, representing white, grey, or black. This mapping requires MultinomialNB. Does the multi-class version improve the results? Why or why not?\n",
    "### Note, the answers may vary depending on what thresholds you set."
   ]
  },
  {
   "cell_type": "markdown",
   "id": "eea95fc4",
   "metadata": {},
   "source": [
    "#### For BernoulliNB"
   ]
  },
  {
   "cell_type": "code",
   "execution_count": 12,
   "id": "6638ba2f",
   "metadata": {},
   "outputs": [],
   "source": [
    "binarize_list=[0.1,0.2,0.3,0.4,0.5]"
   ]
  },
  {
   "cell_type": "code",
   "execution_count": 13,
   "id": "9d543517",
   "metadata": {},
   "outputs": [
    {
     "name": "stdout",
     "output_type": "stream",
     "text": [
      "Threshold for binarizingof sample features: 0.1 | Accuracy:  81.39999999999999\n",
      "Threshold for binarizingof sample features: 0.2 | Accuracy:  82.1\n",
      "Threshold for binarizingof sample features: 0.3 | Accuracy:  82.69999999999999\n",
      "Threshold for binarizingof sample features: 0.4 | Accuracy:  82.19999999999999\n",
      "Threshold for binarizingof sample features: 0.5 | Accuracy:  81.89999999999999\n"
     ]
    }
   ],
   "source": [
    "for i in binarize_list:\n",
    "    BNBclf = BernoulliNB(binarize=i)\n",
    "    BNBclf.fit(subset_train_data, subset_train_labels)\n",
    "    y_bi_pred = BNBclf.predict(validation_data)\n",
    "    print(\"Threshold for binarizingof sample features:\",i,\"| Accuracy: \", accuracy_score(validation_labels, y_bi_pred) * 100.0)"
   ]
  },
  {
   "cell_type": "markdown",
   "id": "423ee656",
   "metadata": {},
   "source": [
    "For Threshold for binarizing of sample features=0.3, we are getting more accuracy compared to other thresholds"
   ]
  },
  {
   "cell_type": "markdown",
   "id": "b4fa6c63",
   "metadata": {},
   "source": [
    "#### For MultinomialNB"
   ]
  },
  {
   "cell_type": "code",
   "execution_count": 14,
   "id": "fabe08ae",
   "metadata": {},
   "outputs": [],
   "source": [
    "def normalizer(val):\n",
    "    if val >= 0.66:\n",
    "      return 2.0\n",
    "    elif val >= 0.33 and val <0.66:\n",
    "      return 1.0\n",
    "    elif val < 0.33 and val >= 0:\n",
    "      return 0.0\n",
    "    else:\n",
    "      return val"
   ]
  },
  {
   "cell_type": "code",
   "execution_count": 15,
   "id": "a3e75954",
   "metadata": {},
   "outputs": [],
   "source": [
    "X_train_1 =  pd.DataFrame(subset_train_data)\n",
    "X_test_1 =  pd.DataFrame(validation_data)   \n",
    "vn = np.vectorize(normalizer)"
   ]
  },
  {
   "cell_type": "code",
   "execution_count": 16,
   "id": "0f10e1c7",
   "metadata": {},
   "outputs": [],
   "source": [
    "for column in X_train_1.columns.to_list():\n",
    "    cols_train = X_train_1[column].to_numpy()\n",
    "    cols_test = X_test_1[column].to_numpy()\n",
    "    result_train = vn(cols_train)\n",
    "    result_test = vn(cols_test)\n",
    "    X_train_1[column].update(pd.Series(result_train))\n",
    "    X_test_1[column].update(pd.Series(result_test))"
   ]
  },
  {
   "cell_type": "markdown",
   "id": "b65d2df0",
   "metadata": {},
   "source": [
    "Because the dataset does not have discrete values, the multinomial version does not boost accuracy. Instead, the method used to translate the values between 0, 1, and 2 will affect accuracy because we are adding discreteness into the dataset."
   ]
  },
  {
   "cell_type": "code",
   "execution_count": 17,
   "id": "c5146f97",
   "metadata": {},
   "outputs": [
    {
     "name": "stdout",
     "output_type": "stream",
     "text": [
      "Accuracy:  80\n"
     ]
    }
   ],
   "source": [
    "MNB = MultinomialNB(alpha=0.3)\n",
    "MNB.fit(X_train_1, subset_train_labels)\n",
    "y_multi_pred = MNB.predict(validation_data)\n",
    "print(\"Accuracy: \", round(accuracy_score(validation_labels, y_multi_pred)*100.0))"
   ]
  },
  {
   "cell_type": "markdown",
   "id": "1c6c3a72",
   "metadata": {},
   "source": [
    "### GaussianNB\n",
    "### C. Try training a model using GuassianNB, which is intended for real-valued features, and evaluate on the dev data. You'll notice that it doesn't work so well. Could you explain why?"
   ]
  },
  {
   "cell_type": "code",
   "execution_count": 18,
   "id": "21a3a966",
   "metadata": {},
   "outputs": [],
   "source": [
    "GNB = GaussianNB(var_smoothing=400)\n",
    "GNB.fit(subset_train_data, subset_train_labels)\n",
    "y_gaus_pred = GNB.predict(validation_data)"
   ]
  },
  {
   "cell_type": "code",
   "execution_count": 19,
   "id": "1ab9a27a",
   "metadata": {},
   "outputs": [
    {
     "name": "stdout",
     "output_type": "stream",
     "text": [
      "Accuracy of Gaussian NB:  30.3\n"
     ]
    }
   ],
   "source": [
    "print(\"Accuracy of Gaussian NB: \", accuracy_score(validation_labels, y_gaus_pred)*100.0)"
   ]
  },
  {
   "cell_type": "code",
   "execution_count": 20,
   "id": "f58ccd42",
   "metadata": {},
   "outputs": [
    {
     "data": {
      "image/png": "[encoded data removed]",
      "text/plain": [
       "<Figure size 1500x300 with 5 Axes>"
      ]
     },
     "metadata": {},
     "output_type": "display_data"
    }
   ],
   "source": [
    "warnings.filterwarnings(\"ignore\")\n",
    "df = X[random.sample(X.columns.to_list(), 5)]\n",
    "df = df * 255.0\n",
    "dfm = df.melt(var_name='columns')\n",
    "g = sns.FacetGrid(dfm, col='columns')\n",
    "g = (g.map(sns.distplot, 'value'))"
   ]
  },
  {
   "cell_type": "markdown",
   "id": "f8a38546",
   "metadata": {},
   "source": [
    "Due to the dataset's non-normal distribution, the GaussianNB model's accuracy is poor.\n",
    "The graphic below displays a distribution graph of 5 randomly chosen columns from the dataset."
   ]
  },
  {
   "cell_type": "code",
   "execution_count": null,
   "id": "0884d211",
   "metadata": {},
   "outputs": [],
   "source": []
  },
  {
   "cell_type": "code",
   "execution_count": null,
   "id": "3e72e06c",
   "metadata": {},
   "outputs": [],
   "source": []
  }
 ],
 "metadata": {
  "kernelspec": {
   "display_name": "Python 3 (ipykernel)",
   "language": "python",
   "name": "python3"
  },
  "language_info": {
   "codemirror_mode": {
    "name": "ipython",
    "version": 3
   },
   "file_extension": ".py",
   "mimetype": "text/x-python",
   "name": "python",
   "nbconvert_exporter": "python",
   "pygments_lexer": "ipython3",
   "version": "3.9.6"
  }
 },
 "nbformat": 4,
 "nbformat_minor": 5
}
